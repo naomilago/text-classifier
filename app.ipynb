{
 "cells": [
  {
   "attachments": {},
   "cell_type": "markdown",
   "metadata": {},
   "source": [
    "<h1 style='color: darkblue; font-weight: bold; text-align: center;'>Text Classifier</h1>\n",
    "\n",
    "<p style='text-align: center;'> This notebook aims to store the code for a text classifier built using NLP techniques.. </p>"
   ]
  }
 ],
 "metadata": {
  "language_info": {
   "name": "python"
  },
  "orig_nbformat": 4
 },
 "nbformat": 4,
 "nbformat_minor": 2
}
